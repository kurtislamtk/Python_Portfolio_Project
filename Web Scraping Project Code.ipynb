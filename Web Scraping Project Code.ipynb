{
 "cells": [
  {
   "cell_type": "code",
   "execution_count": null,
   "id": "9173ca45",
   "metadata": {},
   "outputs": [],
   "source": [
    "# Import libraries\n",
    "\n",
    "import csv\n",
    "from datetime import datetime\n",
    "import requests\n",
    "from bs4 import BeautifulSoup"
   ]
  },
  {
   "cell_type": "code",
   "execution_count": null,
   "id": "9c088f69",
   "metadata": {},
   "outputs": [],
   "source": [
    "# Start web scraping the Jobsdb website\n",
    "\n",
    "url = 'https://hk.jobsdb.com/hk/search-jobs/data-analyst/1'\n",
    "html_text = requests.get(url).text\n",
    "soup = BeautifulSoup(html_text, 'html.parser')\n",
    "soup"
   ]
  },
  {
   "cell_type": "code",
   "execution_count": null,
   "id": "1b364ebd",
   "metadata": {
    "scrolled": true
   },
   "outputs": [],
   "source": [
    "# Numerous job ads were shown in a Jobsdb page\n",
    "# Create a variable \"sectors\", each job ad is stored inside \"sectors\" in the form of list\n",
    "\n",
    "sectors = soup.find_all('div', class_='z1s6m00 _1hbhsw6n rqoqz1')\n",
    "sectors"
   ]
  },
  {
   "cell_type": "code",
   "execution_count": null,
   "id": "e0698b3e",
   "metadata": {},
   "outputs": [],
   "source": [
    "# Use the first job ad for further investigation\n",
    "\n",
    "sector = sectors[0]"
   ]
  },
  {
   "cell_type": "code",
   "execution_count": null,
   "id": "3cc10b6a",
   "metadata": {},
   "outputs": [],
   "source": [
    "# Job title of the first job ad\n",
    "\n",
    "sector.find('div',class_='z1s6m00 l3gun70 l3gun74 l3gun72').getText()"
   ]
  },
  {
   "cell_type": "code",
   "execution_count": null,
   "id": "4d2509d8",
   "metadata": {},
   "outputs": [],
   "source": [
    "# Company name of the first job ad\n",
    "\n",
    "sector.find('span',class_='z1s6m00 _1hbhsw64y y44q7i0 y44q7i1 y44q7i21 y44q7ih').getText()"
   ]
  },
  {
   "cell_type": "code",
   "execution_count": null,
   "id": "31e12a1d",
   "metadata": {},
   "outputs": [],
   "source": [
    "# Location of the first job ad\n",
    "\n",
    "sector.find('span',class_='z1s6m00 _1hbhsw64y y44q7i0 y44q7i3 y44q7i21 y44q7ih').getText()"
   ]
  },
  {
   "cell_type": "code",
   "execution_count": null,
   "id": "0a7f4584",
   "metadata": {},
   "outputs": [],
   "source": [
    "# Description of the first job ad\n",
    "# Data cleaning by using function\n",
    "\n",
    "import re\n",
    "def add_space(text):\n",
    "    spaced_text = re.sub(r'(?<!^)(?=[A-Z])',' ',text)\n",
    "    return spaced_text\n",
    "\n",
    "add_space(sector.find('ul',class_='z1s6m00 z1s6m03 _5135ge0 _5135ge5').getText())"
   ]
  },
  {
   "cell_type": "code",
   "execution_count": null,
   "id": "93bb373b",
   "metadata": {},
   "outputs": [],
   "source": [
    "# Publishing date of the first job ad\n",
    "\n",
    "sector.find('time',class_='z1s6m00 _1hbhsw64y').getText()"
   ]
  },
  {
   "cell_type": "code",
   "execution_count": null,
   "id": "2680dd7d",
   "metadata": {},
   "outputs": [],
   "source": [
    "# The date of performing web scraping (data extract date)\n",
    "\n",
    "today = datetime.today().strftime('%Y-%m-%d')"
   ]
  },
  {
   "cell_type": "code",
   "execution_count": null,
   "id": "70b73404",
   "metadata": {},
   "outputs": [],
   "source": [
    "# Create a function to include all the web scraping methods metioned above\n",
    "# Not all job ads have a specific information, e.g. job location. Thus, \"try and except\" is used to avoid errors\n",
    "\n",
    "def get_record(sector):\n",
    "    \n",
    "    job_title = sector.find('div',class_='z1s6m00 l3gun70 l3gun74 l3gun72').getText()\n",
    "    \n",
    "    try:\n",
    "        company = sector.find('span',class_='z1s6m00 _1hbhsw64y y44q7i0 y44q7i1 y44q7i21 y44q7ih').getText()\n",
    "    except AttributeError:\n",
    "        company = ''\n",
    "        \n",
    "    try:    \n",
    "        location = sector.find('span',class_='z1s6m00 _1hbhsw64y y44q7i0 y44q7i3 y44q7i21 y44q7ih').getText()\n",
    "    except AttributeError:\n",
    "        location = ''\n",
    "        \n",
    "    try:\n",
    "        description = add_space(sector.find('ul',class_='z1s6m00 z1s6m03 _5135ge0 _5135ge5').getText())\n",
    "    except AttributeError:\n",
    "        description = ''\n",
    "        \n",
    "    post_date = sector.find('time',class_='z1s6m00 _1hbhsw64y').getText()\n",
    "    extract_date = datetime.today().strftime('%Y-%m-%d')\n",
    "    \n",
    "    record = (job_title, company, location, description, post_date, extract_date)\n",
    "    return record"
   ]
  },
  {
   "cell_type": "code",
   "execution_count": null,
   "id": "fdc1fa9a",
   "metadata": {},
   "outputs": [],
   "source": [
    "# For loop to grab all the information of every job ad within a page\n",
    "\n",
    "records = []\n",
    "\n",
    "for sector in sectors:\n",
    "    record = get_record(sector)\n",
    "    records.append(record)"
   ]
  },
  {
   "cell_type": "code",
   "execution_count": null,
   "id": "d4b68ce1",
   "metadata": {},
   "outputs": [],
   "source": [
    "# Investigate result\n",
    "\n",
    "records"
   ]
  },
  {
   "cell_type": "code",
   "execution_count": null,
   "id": "12136949",
   "metadata": {},
   "outputs": [],
   "source": [
    "# Scrape every page in Jobsdb website by investigating the code of the \"Next page\" button of Jobsdb\n",
    "# Escape the loop while no more \"Next page\" button in that page (i.e. final page is reached)\n",
    "\n",
    "while True:\n",
    "    try:\n",
    "        url ='https://hk.jobsdb.com' + soup.find('div', class_ = 'z1s6m00 _1hbhsw6ce _1hbhsw6p').a.get('href')\n",
    "    except AttributeError:\n",
    "        break\n",
    "    \n",
    "    html_text = requests.get(url).text\n",
    "    soup = BeautifulSoup(html_text,'html.parser')\n",
    "    sectors = soup.find_all('div', class_='z1s6m00 _1hbhsw6n rqoqz1')\n",
    "    \n",
    "    for sector in sectors:\n",
    "        record = get_record(sector)\n",
    "        records.append(record)"
   ]
  },
  {
   "cell_type": "code",
   "execution_count": null,
   "id": "a8478eda",
   "metadata": {},
   "outputs": [],
   "source": [
    "# Save the result in a csv file\n",
    "\n",
    "with open('result.csv','w',newline='',encoding='utf-8') as f:\n",
    "    writer = csv.writer(f)\n",
    "    writer.writerow(['Job_title','Company','Location','Description','Post_date','Extract_date'])\n",
    "    writer.writerows(records)"
   ]
  }
 ],
 "metadata": {
  "kernelspec": {
   "display_name": "Python 3 (ipykernel)",
   "language": "python",
   "name": "python3"
  },
  "language_info": {
   "codemirror_mode": {
    "name": "ipython",
    "version": 3
   },
   "file_extension": ".py",
   "mimetype": "text/x-python",
   "name": "python",
   "nbconvert_exporter": "python",
   "pygments_lexer": "ipython3",
   "version": "3.9.13"
  }
 },
 "nbformat": 4,
 "nbformat_minor": 5
}
